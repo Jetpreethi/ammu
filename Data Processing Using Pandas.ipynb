{
 "cells": [
  {
   "cell_type": "markdown",
   "id": "beffb451",
   "metadata": {},
   "source": [
    "# 1. How can you load a CSV file into your data analysis environment?"
   ]
  },
  {
   "cell_type": "markdown",
   "id": "3659ee48",
   "metadata": {},
   "source": [
    "# 2.How can you inspect the first few rows of a dataset?"
   ]
  },
  {
   "cell_type": "markdown",
   "id": "ed4182bd",
   "metadata": {},
   "source": [
    "# 3.How can you get a summary of a DataFrame?"
   ]
  },
  {
   "cell_type": "markdown",
   "id": "1143fafe",
   "metadata": {},
   "source": [
    "# 4.How can you handle a scenario with missing data in a dataset?"
   ]
  },
  {
   "cell_type": "markdown",
   "id": "8364b8bc",
   "metadata": {},
   "source": [
    "# 5.How can you drop rows with missing values specifically in certain columns of a DataFrame?"
   ]
  },
  {
   "cell_type": "markdown",
   "id": "5cb6ffc0",
   "metadata": {},
   "source": [
    "# 6.How can you clean duplicate entries in a dataset?"
   ]
  },
  {
   "cell_type": "markdown",
   "id": "14ab78e6",
   "metadata": {},
   "source": [
    "# 7.How can you select rows where 'Age' is greater than 50 and display only the 'Name' and 'Salary' columns?"
   ]
  },
  {
   "cell_type": "markdown",
   "id": "5c6bc0cf",
   "metadata": {},
   "source": [
    "# 8.Select rows where 'Gender' is 'Female' and 'Department' is 'HR', then display 'Name' and 'Age'."
   ]
  },
  {
   "cell_type": "markdown",
   "id": "db433659",
   "metadata": {},
   "source": [
    "# 9.How do you set the 'Salary' to 100,000 for the row where 'ID' is 10?"
   ]
  },
  {
   "cell_type": "markdown",
   "id": "6607b889",
   "metadata": {},
   "source": [
    "# 10.Select rows where 'Gender' is 'Female' and 'Department' is 'HR', then display 'Name' and 'Age'."
   ]
  },
  {
   "cell_type": "markdown",
   "id": "a3ffd119",
   "metadata": {},
   "source": [
    "# 11.How do you select the first 10 rows and the first 4 columns of a dataset?"
   ]
  },
  {
   "cell_type": "markdown",
   "id": "eaae2921",
   "metadata": {},
   "source": [
    "# 12.How can you select the value located in the 5th row and 3rd column of a dataset?"
   ]
  },
  {
   "cell_type": "markdown",
   "id": "c85d1c97",
   "metadata": {},
   "source": [
    "# 13.How can you set the 'Salary' to 50,000 for all rows where the 'Age' is less than 25?"
   ]
  },
  {
   "cell_type": "markdown",
   "id": "2570483f",
   "metadata": {},
   "source": [
    "# 14.Select the 2nd, 4th, and 6th rows and the 1st, 3rd, and 5th columns."
   ]
  },
  {
   "cell_type": "markdown",
   "id": "257f47de",
   "metadata": {},
   "source": [
    "# 15.How do you set the 'Age' to 40 and 'Salary' to 80,000 for rows where 'Department' is 'Engineering' and 'Gender' is 'Male'?"
   ]
  },
  {
   "cell_type": "markdown",
   "id": "d5cb565c",
   "metadata": {},
   "source": [
    "# 16. Select every 10th row and every 2nd column starting from the 1st row and 2nd column."
   ]
  },
  {
   "cell_type": "markdown",
   "id": "fa1fc551",
   "metadata": {},
   "source": [
    "# 17.How do you calculate the total sum of 'Salary' for each 'Department' in a dataset?"
   ]
  },
  {
   "cell_type": "markdown",
   "id": "784d08c7",
   "metadata": {},
   "source": [
    "# 18.How can you count the number of employees in each 'Department' in a dataset?"
   ]
  },
  {
   "cell_type": "markdown",
   "id": "7e7c492c",
   "metadata": {},
   "source": [
    "# 19.How do you compute the average 'Age' for each 'Gender' in a dataset?"
   ]
  },
  {
   "cell_type": "markdown",
   "id": "d7c424be",
   "metadata": {},
   "source": [
    "# 20.Calculate both the total and average 'Salary' for each 'Gender'."
   ]
  },
  {
   "cell_type": "markdown",
   "id": "ba0db3dd",
   "metadata": {},
   "source": [
    "# 21.How do you calculate the total 'Salary' for each combination of 'Department' and 'Gender' in a dataset?"
   ]
  },
  {
   "cell_type": "markdown",
   "id": "656fc91b",
   "metadata": {},
   "source": [
    "# 22.How do you filter out 'Departments' where the average 'Salary' is below 60,000 in a dataset?"
   ]
  },
  {
   "cell_type": "markdown",
   "id": "7c97102d",
   "metadata": {},
   "source": [
    "# 23.How do you calculate both the total 'Salary' and average 'Age' for each 'Department' in a dataset?"
   ]
  },
  {
   "cell_type": "markdown",
   "id": "e2f295df",
   "metadata": {},
   "source": [
    "# 24.How do you sort the DataFrame by 'Age' in ascending order?"
   ]
  },
  {
   "cell_type": "markdown",
   "id": "d497d0f7",
   "metadata": {},
   "source": [
    "# 25.How do you sort the DataFrame first by 'Department' in ascending order, and then by 'Salary' in descending order?"
   ]
  },
  {
   "cell_type": "markdown",
   "id": "9e803a23",
   "metadata": {},
   "source": [
    "# 26.How do you sort the DataFrame by 'JoiningDate' in ascending order, ensuring NaN values are placed at the end?"
   ]
  },
  {
   "cell_type": "markdown",
   "id": "a2de9b1c",
   "metadata": {},
   "source": [
    "# 27.How do you sort the DataFrame by 'Salary' in descending order and reset the index?"
   ]
  },
  {
   "cell_type": "markdown",
   "id": "c4bda3d6",
   "metadata": {},
   "source": [
    "# 28.How do you sort the DataFrame by index in descending order?"
   ]
  },
  {
   "cell_type": "markdown",
   "id": "74cabd50",
   "metadata": {},
   "source": [
    "# 29.How do you sort the DataFrame by index in ascending order and by 'Salary' in descending order simultaneously?"
   ]
  },
  {
   "cell_type": "markdown",
   "id": "46c39011",
   "metadata": {},
   "source": [
    "# 30.How do you sort the DataFrame by the absolute value of 'Salary' in descending order?"
   ]
  },
  {
   "cell_type": "markdown",
   "id": "6ff81c53",
   "metadata": {},
   "source": [
    "# 31. How do you rename the column 'EmployeeName' to 'Name' in a DataFrame?"
   ]
  },
  {
   "cell_type": "markdown",
   "id": "4e9db832",
   "metadata": {},
   "source": [
    "# 32.How can you add a new column 'Bonus' that is 5% of the 'Salary' for each employee in a DataFrame?"
   ]
  },
  {
   "cell_type": "markdown",
   "id": "9354d7de",
   "metadata": {},
   "source": [
    "# 33.How do you rename the columns ['ID', 'JoiningYear'] to ['EmployeeID', 'YearJoined'] in a DataFrame?"
   ]
  },
  {
   "cell_type": "markdown",
   "id": "71d81f49",
   "metadata": {},
   "source": [
    "# 34.How can you add a new column 'Seniority' that labels employees as 'Senior' if their 'Age' is above 40, and 'Junior' otherwise, in a DataFrame?"
   ]
  },
  {
   "cell_type": "markdown",
   "id": "4b1e3fa7",
   "metadata": {},
   "source": [
    "# 35.How do you rename all columns to lowercase in a DataFrame?"
   ]
  },
  {
   "cell_type": "markdown",
   "id": "004f9ecd",
   "metadata": {},
   "source": [
    "# 36.How do you merge two DataFrames, df1 and df2, on the 'ID' column using an inner join?"
   ]
  },
  {
   "cell_type": "markdown",
   "id": "3b54989f",
   "metadata": {},
   "source": [
    "# 37.How do you merge `left_df` and `right_df` where `left_df` has 'EmpID' and `right_df` has 'EmployeeID', using a left join?"
   ]
  },
  {
   "cell_type": "markdown",
   "id": "578cb0c3",
   "metadata": {},
   "source": [
    "# 38.How can you replace all occurrences of 'Male' with 'M' in the 'Gender' column of a DataFrame?"
   ]
  },
  {
   "cell_type": "markdown",
   "id": "41728ae3",
   "metadata": {},
   "source": [
    "# 39.How do you replace 'High', 'Medium', and 'Low' in the 'Rating' column with 3, 2, and 1 respectively in a DataFrame?"
   ]
  },
  {
   "cell_type": "markdown",
   "id": "e7e537e8",
   "metadata": {},
   "source": [
    "# 40. How can you map the values in the 'Department' column of a DataFrame using a dictionary `dept_map`?\n",
    "\n",
    "#  dept_map = {'HR': 'Human Resources', 'IT': 'Information Technology', 'Finance': 'Finance'}"
   ]
  },
  {
   "cell_type": "markdown",
   "id": "e677b119",
   "metadata": {},
   "source": [
    "# 41.Transform 'Salary' column by applying a lambda function that adds 10% to each value."
   ]
  },
  {
   "cell_type": "markdown",
   "id": "2907303c",
   "metadata": {},
   "source": [
    "# 42. How do you remove a single column from a DataFrame?"
   ]
  },
  {
   "cell_type": "markdown",
   "id": "434f6846",
   "metadata": {},
   "source": [
    "# 43. How can you remove multiple columns from a DataFrame?"
   ]
  },
  {
   "cell_type": "markdown",
   "id": "586d0327",
   "metadata": {},
   "source": [
    "# 44. How do you concatenate two DataFrames, df1 and df2, vertically?"
   ]
  },
  {
   "cell_type": "markdown",
   "id": "11b43421",
   "metadata": {},
   "source": [
    "# 45. How do you concatenate `left_df` and `right_df` horizontally along columns?"
   ]
  },
  {
   "cell_type": "markdown",
   "id": "771aa5f2",
   "metadata": {},
   "source": [
    "# 46. How do you pivot the DataFrame `sales_df` to display the total 'Sales' for each 'Year' and 'Quarter'?"
   ]
  },
  {
   "cell_type": "markdown",
   "id": "3a50df5e",
   "metadata": {},
   "source": [
    "# 47.How do you unpivot the DataFrame `pivot_df` back to its original form?"
   ]
  },
  {
   "cell_type": "markdown",
   "id": "ae1ff852",
   "metadata": {},
   "source": [
    "# 48.How do you set the 'ID' column as the index of the DataFrame df?"
   ]
  },
  {
   "cell_type": "markdown",
   "id": "af9f7a66",
   "metadata": {},
   "source": [
    "# 49.How do you export the DataFrame df to a CSV file named 'employee_data.csv'?"
   ]
  },
  {
   "cell_type": "markdown",
   "id": "46b42678",
   "metadata": {},
   "source": [
    "# 50.How do you export the DataFrame `sales_df` to an Excel file named 'sales_data.xlsx' with a sheet named 'Sales'?"
   ]
  },
  {
   "cell_type": "markdown",
   "id": "f56a5db8",
   "metadata": {},
   "source": [
    "# 51.How do you impute missing values in the 'Salary' column using the median and create a summary DataFrame?"
   ]
  },
  {
   "cell_type": "markdown",
   "id": "36a260bb",
   "metadata": {},
   "source": [
    "# 52.How do you group by 'Department' and calculate the 25th percentile of 'Salary' in a DataFrame?"
   ]
  },
  {
   "cell_type": "markdown",
   "id": "29f99b14",
   "metadata": {},
   "source": [
    "# 53. How do you calculate the cumulative sum of 'Salary' over each department in a DataFrame?"
   ]
  },
  {
   "cell_type": "markdown",
   "id": "59414041",
   "metadata": {},
   "source": [
    "# 54. How can you add a new column 'PerformanceRating' to assign values based on 'Salary': 'High' if above 80,000, 'Medium' if between 50,000 and 80,000, and 'Low' if below 50,000?"
   ]
  },
  {
   "cell_type": "markdown",
   "id": "1d97fa76",
   "metadata": {},
   "source": [
    "# 55. How do you replace 'Unknown' values in the 'Age' column of the DataFrame with the mean age of the DataFrame?"
   ]
  },
  {
   "cell_type": "markdown",
   "id": "1c721e97",
   "metadata": {},
   "source": [
    "# 56. How do you load a JSON file with nested structures and normalize it into a flat DataFrame?"
   ]
  },
  {
   "cell_type": "markdown",
   "id": "c3e2a70e",
   "metadata": {},
   "source": [
    "# 57.How do you retrieve unique values from the 'City' column in a DataFrame df?"
   ]
  },
  {
   "cell_type": "markdown",
   "id": "848680f3",
   "metadata": {},
   "source": [
    "# 58.How do you combine the counts of unique 'ProductID' and 'Category' in sales_df?"
   ]
  },
  {
   "cell_type": "markdown",
   "id": "58698563",
   "metadata": {},
   "source": [
    "# 59.How do you filter employee_data to include only employees who have worked in more than one department?"
   ]
  },
  {
   "cell_type": "markdown",
   "id": "02e5ec1b",
   "metadata": {},
   "source": [
    "# 60. How do you create a custom aggregation function to calculate the weighted average 'Salary' by 'Department'?"
   ]
  },
  {
   "cell_type": "code",
   "execution_count": null,
   "id": "93448b80",
   "metadata": {},
   "outputs": [],
   "source": []
  }
 ],
 "metadata": {
  "kernelspec": {
   "display_name": "Python 3",
   "language": "python",
   "name": "python3"
  },
  "language_info": {
   "codemirror_mode": {
    "name": "ipython",
    "version": 3
   },
   "file_extension": ".py",
   "mimetype": "text/x-python",
   "name": "python",
   "nbconvert_exporter": "python",
   "pygments_lexer": "ipython3",
   "version": "3.8.8"
  }
 },
 "nbformat": 4,
 "nbformat_minor": 5
}
